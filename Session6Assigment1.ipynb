{
 "cells": [
  {
   "cell_type": "code",
   "execution_count": 24,
   "metadata": {
    "collapsed": true
   },
   "outputs": [],
   "source": [
    "def getmean(lst):\n",
    "    \"\"\"\n",
    "    Returns the Mean of values passed in a List\n",
    "    \n",
    "    \"\"\"\n",
    "    sumvalue = sum(lst)  # Get the sum of the List values\n",
    "    count = len(lst) # Get the count of the List items\n",
    "    return sumvalue/count # Sum of all value divided by the count is the variance"
   ]
  },
  {
   "cell_type": "code",
   "execution_count": 25,
   "metadata": {},
   "outputs": [],
   "source": [
    "def getvariance(lst, mean):\n",
    "    \"\"\"\n",
    "    Returns the variance Square as the result for the list and its mean\n",
    "    Parameter:\n",
    "    lst : its a list of numbers\n",
    "    mean: a number which a mean of the values in the list\n",
    "    \"\"\"\n",
    "    variancesum = [(x-mean)**2 for x in lst] # varaincesum = (x-mean)^2\n",
    "    return sum(variancesum)/(len(lst)-1) # variancesum divided by count(n, count of list)-1\n"
   ]
  },
  {
   "cell_type": "code",
   "execution_count": 4,
   "metadata": {
    "collapsed": true
   },
   "outputs": [],
   "source": [
    "from math import sqrt\n",
    "def standard_deviation(varianceSquare):\n",
    "    \"\"\"\n",
    "    Square Root of Varaince Square is Standard Deviation\n",
    "    \"\"\"\n",
    "    return sqrt(varianceSquare)"
   ]
  },
  {
   "cell_type": "code",
   "execution_count": 27,
   "metadata": {},
   "outputs": [
    {
     "name": "stdout",
     "output_type": "stream",
     "text": [
      "Mean value is:  1158.3333333333333\n",
      "Variance Value is:  135416.6666666667\n",
      "Standard deviation of rent Paid is:  367.99003609699366\n"
     ]
    }
   ],
   "source": [
    "rentPaidData = [1550,1700,900,850,1000,950] # Sample Data of all rent paid\n",
    "mean = getmean(rentPaidData) # Get the mean of all the Rent\n",
    "print(\"Mean value is: \", mean) \n",
    "varianceSquare = getvariance(rentPaidData, mean) # Get the Variance Sqaure\n",
    "print(\"Variance Value is: \", varianceSquare)\n",
    "sd = standard_deviation(varianceSquare) # Get the Standard Deviation\n",
    "print(\"Standard deviation of rent Paid is: \", sd)"
   ]
  },
  {
   "cell_type": "code",
   "execution_count": null,
   "metadata": {
    "collapsed": true
   },
   "outputs": [],
   "source": []
  },
  {
   "cell_type": "code",
   "execution_count": null,
   "metadata": {
    "collapsed": true
   },
   "outputs": [],
   "source": []
  }
 ],
 "metadata": {
  "kernelspec": {
   "display_name": "Python 3",
   "language": "python",
   "name": "python3"
  },
  "language_info": {
   "codemirror_mode": {
    "name": "ipython",
    "version": 3
   },
   "file_extension": ".py",
   "mimetype": "text/x-python",
   "name": "python",
   "nbconvert_exporter": "python",
   "pygments_lexer": "ipython3",
   "version": "3.6.3"
  }
 },
 "nbformat": 4,
 "nbformat_minor": 2
}
